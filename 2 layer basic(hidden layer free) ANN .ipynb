{
 "cells": [
  {
   "cell_type": "markdown",
   "id": "02019bb8",
   "metadata": {},
   "source": [
    "# Import Packages"
   ]
  },
  {
   "cell_type": "code",
   "execution_count": 3,
   "id": "a5a9f1b2",
   "metadata": {},
   "outputs": [],
   "source": [
    "import tensorflow as tf\n",
    "from tensorflow.keras.models import Sequential\n",
    "from tensorflow.keras.layers import Dense"
   ]
  },
  {
   "cell_type": "markdown",
   "id": "ff7093a3",
   "metadata": {},
   "source": [
    "# Create a simple dataset for illustration purposes"
   ]
  },
  {
   "cell_type": "code",
   "execution_count": 4,
   "id": "9fe2411d",
   "metadata": {},
   "outputs": [],
   "source": [
    "inputs = [[0, 0], [0, 1], [1, 0], [1, 1]]\n",
    "outputs = [0, 1, 1, 0]"
   ]
  },
  {
   "cell_type": "markdown",
   "id": "7af149a2",
   "metadata": {},
   "source": [
    "# Define the neural network model"
   ]
  },
  {
   "cell_type": "code",
   "execution_count": 5,
   "id": "1fdb9b30",
   "metadata": {},
   "outputs": [],
   "source": [
    "model = Sequential()\n",
    "model.add(Dense(2, input_dim=2, activation='relu'))  # Input layer with 2 neurons\n",
    "model.add(Dense(1, activation='sigmoid'))           # Output layer with 1 neuron"
   ]
  },
  {
   "cell_type": "markdown",
   "id": "f7d376e9",
   "metadata": {},
   "source": [
    "# Compile the model"
   ]
  },
  {
   "cell_type": "code",
   "execution_count": 6,
   "id": "c8d926b8",
   "metadata": {},
   "outputs": [],
   "source": [
    "model.compile(loss='binary_crossentropy', optimizer='adam', metrics=['accuracy'])"
   ]
  },
  {
   "cell_type": "markdown",
   "id": "14fc99fd",
   "metadata": {},
   "source": [
    "# Train the model"
   ]
  },
  {
   "cell_type": "code",
   "execution_count": 8,
   "id": "37445752",
   "metadata": {},
   "outputs": [
    {
     "name": "stdout",
     "output_type": "stream",
     "text": [
      "Epoch 1/100\n",
      "1/1 - 1s - loss: 0.6938 - accuracy: 0.7500 - 953ms/epoch - 953ms/step\n",
      "Epoch 2/100\n",
      "1/1 - 0s - loss: 0.6938 - accuracy: 0.7500 - 6ms/epoch - 6ms/step\n",
      "Epoch 3/100\n",
      "1/1 - 0s - loss: 0.6937 - accuracy: 0.7500 - 5ms/epoch - 5ms/step\n",
      "Epoch 4/100\n",
      "1/1 - 0s - loss: 0.6937 - accuracy: 0.7500 - 6ms/epoch - 6ms/step\n",
      "Epoch 5/100\n",
      "1/1 - 0s - loss: 0.6937 - accuracy: 0.7500 - 6ms/epoch - 6ms/step\n",
      "Epoch 6/100\n",
      "1/1 - 0s - loss: 0.6937 - accuracy: 0.7500 - 6ms/epoch - 6ms/step\n",
      "Epoch 7/100\n",
      "1/1 - 0s - loss: 0.6937 - accuracy: 0.7500 - 5ms/epoch - 5ms/step\n",
      "Epoch 8/100\n",
      "1/1 - 0s - loss: 0.6936 - accuracy: 0.7500 - 5ms/epoch - 5ms/step\n",
      "Epoch 9/100\n",
      "1/1 - 0s - loss: 0.6936 - accuracy: 0.7500 - 4ms/epoch - 4ms/step\n",
      "Epoch 10/100\n",
      "1/1 - 0s - loss: 0.6936 - accuracy: 0.7500 - 5ms/epoch - 5ms/step\n",
      "Epoch 11/100\n",
      "1/1 - 0s - loss: 0.6936 - accuracy: 0.7500 - 5ms/epoch - 5ms/step\n",
      "Epoch 12/100\n",
      "1/1 - 0s - loss: 0.6936 - accuracy: 0.7500 - 5ms/epoch - 5ms/step\n",
      "Epoch 13/100\n",
      "1/1 - 0s - loss: 0.6935 - accuracy: 0.7500 - 5ms/epoch - 5ms/step\n",
      "Epoch 14/100\n",
      "1/1 - 0s - loss: 0.6935 - accuracy: 0.7500 - 5ms/epoch - 5ms/step\n",
      "Epoch 15/100\n",
      "1/1 - 0s - loss: 0.6935 - accuracy: 0.7500 - 6ms/epoch - 6ms/step\n",
      "Epoch 16/100\n",
      "1/1 - 0s - loss: 0.6935 - accuracy: 0.7500 - 6ms/epoch - 6ms/step\n",
      "Epoch 17/100\n",
      "1/1 - 0s - loss: 0.6935 - accuracy: 0.7500 - 4ms/epoch - 4ms/step\n",
      "Epoch 18/100\n",
      "1/1 - 0s - loss: 0.6935 - accuracy: 0.7500 - 5ms/epoch - 5ms/step\n",
      "Epoch 19/100\n",
      "1/1 - 0s - loss: 0.6934 - accuracy: 0.5000 - 5ms/epoch - 5ms/step\n",
      "Epoch 20/100\n",
      "1/1 - 0s - loss: 0.6934 - accuracy: 0.5000 - 5ms/epoch - 5ms/step\n",
      "Epoch 21/100\n",
      "1/1 - 0s - loss: 0.6934 - accuracy: 0.5000 - 5ms/epoch - 5ms/step\n",
      "Epoch 22/100\n",
      "1/1 - 0s - loss: 0.6934 - accuracy: 0.5000 - 7ms/epoch - 7ms/step\n",
      "Epoch 23/100\n",
      "1/1 - 0s - loss: 0.6934 - accuracy: 0.5000 - 6ms/epoch - 6ms/step\n",
      "Epoch 24/100\n",
      "1/1 - 0s - loss: 0.6934 - accuracy: 0.5000 - 4ms/epoch - 4ms/step\n",
      "Epoch 25/100\n",
      "1/1 - 0s - loss: 0.6934 - accuracy: 0.5000 - 5ms/epoch - 5ms/step\n",
      "Epoch 26/100\n",
      "1/1 - 0s - loss: 0.6934 - accuracy: 0.5000 - 5ms/epoch - 5ms/step\n",
      "Epoch 27/100\n",
      "1/1 - 0s - loss: 0.6934 - accuracy: 0.5000 - 6ms/epoch - 6ms/step\n",
      "Epoch 28/100\n",
      "1/1 - 0s - loss: 0.6934 - accuracy: 0.5000 - 5ms/epoch - 5ms/step\n",
      "Epoch 29/100\n",
      "1/1 - 0s - loss: 0.6934 - accuracy: 0.5000 - 4ms/epoch - 4ms/step\n",
      "Epoch 30/100\n",
      "1/1 - 0s - loss: 0.6933 - accuracy: 0.5000 - 5ms/epoch - 5ms/step\n",
      "Epoch 31/100\n",
      "1/1 - 0s - loss: 0.6933 - accuracy: 0.5000 - 6ms/epoch - 6ms/step\n",
      "Epoch 32/100\n",
      "1/1 - 0s - loss: 0.6933 - accuracy: 0.5000 - 5ms/epoch - 5ms/step\n",
      "Epoch 33/100\n",
      "1/1 - 0s - loss: 0.6933 - accuracy: 0.5000 - 5ms/epoch - 5ms/step\n",
      "Epoch 34/100\n",
      "1/1 - 0s - loss: 0.6933 - accuracy: 0.5000 - 4ms/epoch - 4ms/step\n",
      "Epoch 35/100\n",
      "1/1 - 0s - loss: 0.6933 - accuracy: 0.5000 - 4ms/epoch - 4ms/step\n",
      "Epoch 36/100\n",
      "1/1 - 0s - loss: 0.6933 - accuracy: 0.5000 - 5ms/epoch - 5ms/step\n",
      "Epoch 37/100\n",
      "1/1 - 0s - loss: 0.6933 - accuracy: 0.5000 - 5ms/epoch - 5ms/step\n",
      "Epoch 38/100\n",
      "1/1 - 0s - loss: 0.6933 - accuracy: 0.5000 - 5ms/epoch - 5ms/step\n",
      "Epoch 39/100\n",
      "1/1 - 0s - loss: 0.6933 - accuracy: 0.5000 - 4ms/epoch - 4ms/step\n",
      "Epoch 40/100\n",
      "1/1 - 0s - loss: 0.6933 - accuracy: 0.5000 - 4ms/epoch - 4ms/step\n",
      "Epoch 41/100\n",
      "1/1 - 0s - loss: 0.6933 - accuracy: 0.5000 - 4ms/epoch - 4ms/step\n",
      "Epoch 42/100\n",
      "1/1 - 0s - loss: 0.6933 - accuracy: 0.5000 - 5ms/epoch - 5ms/step\n",
      "Epoch 43/100\n",
      "1/1 - 0s - loss: 0.6933 - accuracy: 0.5000 - 5ms/epoch - 5ms/step\n",
      "Epoch 44/100\n",
      "1/1 - 0s - loss: 0.6933 - accuracy: 0.5000 - 4ms/epoch - 4ms/step\n",
      "Epoch 45/100\n",
      "1/1 - 0s - loss: 0.6933 - accuracy: 0.5000 - 5ms/epoch - 5ms/step\n",
      "Epoch 46/100\n",
      "1/1 - 0s - loss: 0.6933 - accuracy: 0.5000 - 5ms/epoch - 5ms/step\n",
      "Epoch 47/100\n",
      "1/1 - 0s - loss: 0.6933 - accuracy: 0.5000 - 7ms/epoch - 7ms/step\n",
      "Epoch 48/100\n",
      "1/1 - 0s - loss: 0.6933 - accuracy: 0.5000 - 9ms/epoch - 9ms/step\n",
      "Epoch 49/100\n",
      "1/1 - 0s - loss: 0.6933 - accuracy: 0.5000 - 5ms/epoch - 5ms/step\n",
      "Epoch 50/100\n",
      "1/1 - 0s - loss: 0.6933 - accuracy: 0.5000 - 4ms/epoch - 4ms/step\n",
      "Epoch 51/100\n",
      "1/1 - 0s - loss: 0.6933 - accuracy: 0.5000 - 5ms/epoch - 5ms/step\n",
      "Epoch 52/100\n",
      "1/1 - 0s - loss: 0.6933 - accuracy: 0.5000 - 6ms/epoch - 6ms/step\n",
      "Epoch 53/100\n",
      "1/1 - 0s - loss: 0.6933 - accuracy: 0.5000 - 5ms/epoch - 5ms/step\n",
      "Epoch 54/100\n",
      "1/1 - 0s - loss: 0.6933 - accuracy: 0.5000 - 8ms/epoch - 8ms/step\n",
      "Epoch 55/100\n",
      "1/1 - 0s - loss: 0.6933 - accuracy: 0.5000 - 6ms/epoch - 6ms/step\n",
      "Epoch 56/100\n",
      "1/1 - 0s - loss: 0.6933 - accuracy: 0.5000 - 7ms/epoch - 7ms/step\n",
      "Epoch 57/100\n",
      "1/1 - 0s - loss: 0.6933 - accuracy: 0.5000 - 5ms/epoch - 5ms/step\n",
      "Epoch 58/100\n",
      "1/1 - 0s - loss: 0.6933 - accuracy: 0.5000 - 4ms/epoch - 4ms/step\n",
      "Epoch 59/100\n",
      "1/1 - 0s - loss: 0.6933 - accuracy: 0.5000 - 6ms/epoch - 6ms/step\n",
      "Epoch 60/100\n",
      "1/1 - 0s - loss: 0.6933 - accuracy: 0.5000 - 5ms/epoch - 5ms/step\n",
      "Epoch 61/100\n",
      "1/1 - 0s - loss: 0.6933 - accuracy: 0.5000 - 5ms/epoch - 5ms/step\n",
      "Epoch 62/100\n",
      "1/1 - 0s - loss: 0.6933 - accuracy: 0.5000 - 5ms/epoch - 5ms/step\n",
      "Epoch 63/100\n",
      "1/1 - 0s - loss: 0.6933 - accuracy: 0.5000 - 5ms/epoch - 5ms/step\n",
      "Epoch 64/100\n",
      "1/1 - 0s - loss: 0.6933 - accuracy: 0.5000 - 5ms/epoch - 5ms/step\n",
      "Epoch 65/100\n",
      "1/1 - 0s - loss: 0.6933 - accuracy: 0.5000 - 5ms/epoch - 5ms/step\n",
      "Epoch 66/100\n",
      "1/1 - 0s - loss: 0.6933 - accuracy: 0.5000 - 5ms/epoch - 5ms/step\n",
      "Epoch 67/100\n",
      "1/1 - 0s - loss: 0.6933 - accuracy: 0.5000 - 5ms/epoch - 5ms/step\n",
      "Epoch 68/100\n",
      "1/1 - 0s - loss: 0.6933 - accuracy: 0.5000 - 5ms/epoch - 5ms/step\n",
      "Epoch 69/100\n",
      "1/1 - 0s - loss: 0.6933 - accuracy: 0.5000 - 5ms/epoch - 5ms/step\n",
      "Epoch 70/100\n",
      "1/1 - 0s - loss: 0.6933 - accuracy: 0.5000 - 6ms/epoch - 6ms/step\n",
      "Epoch 71/100\n",
      "1/1 - 0s - loss: 0.6933 - accuracy: 0.5000 - 5ms/epoch - 5ms/step\n",
      "Epoch 72/100\n",
      "1/1 - 0s - loss: 0.6933 - accuracy: 0.5000 - 5ms/epoch - 5ms/step\n",
      "Epoch 73/100\n",
      "1/1 - 0s - loss: 0.6933 - accuracy: 0.5000 - 5ms/epoch - 5ms/step\n",
      "Epoch 74/100\n",
      "1/1 - 0s - loss: 0.6933 - accuracy: 0.5000 - 4ms/epoch - 4ms/step\n",
      "Epoch 75/100\n",
      "1/1 - 0s - loss: 0.6933 - accuracy: 0.5000 - 5ms/epoch - 5ms/step\n",
      "Epoch 76/100\n",
      "1/1 - 0s - loss: 0.6933 - accuracy: 0.5000 - 5ms/epoch - 5ms/step\n",
      "Epoch 77/100\n",
      "1/1 - 0s - loss: 0.6933 - accuracy: 0.5000 - 5ms/epoch - 5ms/step\n",
      "Epoch 78/100\n",
      "1/1 - 0s - loss: 0.6933 - accuracy: 0.5000 - 5ms/epoch - 5ms/step\n",
      "Epoch 79/100\n",
      "1/1 - 0s - loss: 0.6933 - accuracy: 0.5000 - 4ms/epoch - 4ms/step\n",
      "Epoch 80/100\n",
      "1/1 - 0s - loss: 0.6933 - accuracy: 0.5000 - 5ms/epoch - 5ms/step\n",
      "Epoch 81/100\n",
      "1/1 - 0s - loss: 0.6933 - accuracy: 0.5000 - 5ms/epoch - 5ms/step\n",
      "Epoch 82/100\n",
      "1/1 - 0s - loss: 0.6933 - accuracy: 0.5000 - 5ms/epoch - 5ms/step\n",
      "Epoch 83/100\n",
      "1/1 - 0s - loss: 0.6932 - accuracy: 0.5000 - 5ms/epoch - 5ms/step\n",
      "Epoch 84/100\n",
      "1/1 - 0s - loss: 0.6932 - accuracy: 0.5000 - 6ms/epoch - 6ms/step\n",
      "Epoch 85/100\n",
      "1/1 - 0s - loss: 0.6932 - accuracy: 0.5000 - 5ms/epoch - 5ms/step\n",
      "Epoch 86/100\n",
      "1/1 - 0s - loss: 0.6932 - accuracy: 0.5000 - 5ms/epoch - 5ms/step\n",
      "Epoch 87/100\n",
      "1/1 - 0s - loss: 0.6932 - accuracy: 0.5000 - 4ms/epoch - 4ms/step\n",
      "Epoch 88/100\n",
      "1/1 - 0s - loss: 0.6932 - accuracy: 0.5000 - 4ms/epoch - 4ms/step\n",
      "Epoch 89/100\n",
      "1/1 - 0s - loss: 0.6932 - accuracy: 0.5000 - 5ms/epoch - 5ms/step\n",
      "Epoch 90/100\n",
      "1/1 - 0s - loss: 0.6932 - accuracy: 0.5000 - 6ms/epoch - 6ms/step\n",
      "Epoch 91/100\n",
      "1/1 - 0s - loss: 0.6932 - accuracy: 0.5000 - 4ms/epoch - 4ms/step\n",
      "Epoch 92/100\n",
      "1/1 - 0s - loss: 0.6932 - accuracy: 0.5000 - 5ms/epoch - 5ms/step\n",
      "Epoch 93/100\n",
      "1/1 - 0s - loss: 0.6932 - accuracy: 0.5000 - 5ms/epoch - 5ms/step\n",
      "Epoch 94/100\n",
      "1/1 - 0s - loss: 0.6932 - accuracy: 0.5000 - 5ms/epoch - 5ms/step\n",
      "Epoch 95/100\n",
      "1/1 - 0s - loss: 0.6932 - accuracy: 0.5000 - 5ms/epoch - 5ms/step\n",
      "Epoch 96/100\n",
      "1/1 - 0s - loss: 0.6932 - accuracy: 0.5000 - 6ms/epoch - 6ms/step\n",
      "Epoch 97/100\n",
      "1/1 - 0s - loss: 0.6932 - accuracy: 0.5000 - 5ms/epoch - 5ms/step\n",
      "Epoch 98/100\n",
      "1/1 - 0s - loss: 0.6932 - accuracy: 0.5000 - 5ms/epoch - 5ms/step\n",
      "Epoch 99/100\n",
      "1/1 - 0s - loss: 0.6932 - accuracy: 0.5000 - 5ms/epoch - 5ms/step\n",
      "Epoch 100/100\n",
      "1/1 - 0s - loss: 0.6932 - accuracy: 0.5000 - 5ms/epoch - 5ms/step\n"
     ]
    },
    {
     "data": {
      "text/plain": [
       "<keras.callbacks.History at 0x1e9bd9c7ac0>"
      ]
     },
     "execution_count": 8,
     "metadata": {},
     "output_type": "execute_result"
    }
   ],
   "source": [
    "model.fit(inputs, outputs, epochs=100, verbose=2)"
   ]
  },
  {
   "cell_type": "markdown",
   "id": "e010db69",
   "metadata": {},
   "source": [
    "# Make predictions"
   ]
  },
  {
   "cell_type": "code",
   "execution_count": 10,
   "id": "4c4115ab",
   "metadata": {},
   "outputs": [
    {
     "name": "stdout",
     "output_type": "stream",
     "text": [
      "1/1 [==============================] - 0s 154ms/step\n",
      "[[0.4917232 ]\n",
      " [0.50490755]\n",
      " [0.49373165]\n",
      " [0.5069161 ]]\n"
     ]
    }
   ],
   "source": [
    "predictions = model.predict(inputs)\n",
    "print(predictions)"
   ]
  }
 ],
 "metadata": {
  "kernelspec": {
   "display_name": "Python 3 (ipykernel)",
   "language": "python",
   "name": "python3"
  },
  "language_info": {
   "codemirror_mode": {
    "name": "ipython",
    "version": 3
   },
   "file_extension": ".py",
   "mimetype": "text/x-python",
   "name": "python",
   "nbconvert_exporter": "python",
   "pygments_lexer": "ipython3",
   "version": "3.10.9"
  }
 },
 "nbformat": 4,
 "nbformat_minor": 5
}
